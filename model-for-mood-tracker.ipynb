{
 "cells": [
  {
   "cell_type": "code",
   "execution_count": 1,
   "metadata": {},
   "outputs": [],
   "source": [
    "import nltk\n",
    "import random\n",
    "import pandas as pd\n",
    "import numpy as np\n",
    "import matplotlib.pyplot as plt\n",
    "import seaborn as sns\n",
    "import re\n",
    "import matplotlib.pyplot as plt\n",
    "# text processing\n",
    "from nltk.corpus import stopwords\n",
    "from nltk.stem.porter import PorterStemmer\n",
    "from tensorflow.keras.preprocessing.text import one_hot\n",
    "from tensorflow.keras.preprocessing.sequence import pad_sequences\n",
    "# keras deep network\n",
    "from tensorflow import keras\n",
    "from tensorflow.keras.models import Sequential\n",
    "from tensorflow.keras.layers import Embedding\n",
    "from tensorflow.keras.models import Sequential\n",
    "from tensorflow.keras.layers import LSTM\n",
    "from tensorflow.keras.layers import Dense\n",
    "from tensorflow.keras.layers import Dropout\n",
    "# result evaluation\n",
    "from sklearn.metrics import confusion_matrix\n",
    "from sklearn.metrics import accuracy_score\n",
    "from sklearn.metrics import ConfusionMatrixDisplay\n",
    "from sklearn.metrics import plot_confusion_matrix\n",
    "from sklearn import metrics\n",
    "# saving model\n",
    "from keras.models import model_from_json\n",
    "# set random seed\n",
    "from tensorflow.random import set_seed "
   ]
  },
  {
   "cell_type": "code",
   "execution_count": 2,
   "metadata": {},
   "outputs": [],
   "source": [
    "set_seed(1)"
   ]
  },
  {
   "cell_type": "markdown",
   "metadata": {},
   "source": [
    "### emotion dataset source: https://www.kaggle.com/praveengovi/emotions-dataset-for-nlp"
   ]
  },
  {
   "cell_type": "code",
   "execution_count": null,
   "metadata": {},
   "outputs": [],
   "source": []
  },
  {
   "cell_type": "code",
   "execution_count": 3,
   "metadata": {},
   "outputs": [],
   "source": [
    "# list sentences\n",
    "def create_df(path):\n",
    "    \"\"\"\n",
    "    create data frame from text format\n",
    "    \"\"\"\n",
    "    list_sent = []\n",
    "    all_sent = []\n",
    "    with open(path) as f:\n",
    "        # read line by line\n",
    "        for line in f:\n",
    "        # remove whitespace at the start and the newline at the end\n",
    "            line = line.strip()\n",
    "            list_sent.append(line)\n",
    "        for i in range(len(list_sent)):\n",
    "        # data were seperated using semicolon\n",
    "            all_sent.append(list_sent[i].split(';'))\n",
    "        df = pd.DataFrame(all_sent, columns=['description','emotion'])\n",
    "        return df"
   ]
  },
  {
   "cell_type": "markdown",
   "metadata": {},
   "source": [
    "#### training dataset"
   ]
  },
  {
   "cell_type": "code",
   "execution_count": 4,
   "metadata": {},
   "outputs": [
    {
     "data": {
      "text/html": [
       "<div>\n",
       "<style scoped>\n",
       "    .dataframe tbody tr th:only-of-type {\n",
       "        vertical-align: middle;\n",
       "    }\n",
       "\n",
       "    .dataframe tbody tr th {\n",
       "        vertical-align: top;\n",
       "    }\n",
       "\n",
       "    .dataframe thead th {\n",
       "        text-align: right;\n",
       "    }\n",
       "</style>\n",
       "<table border=\"1\" class=\"dataframe\">\n",
       "  <thead>\n",
       "    <tr style=\"text-align: right;\">\n",
       "      <th></th>\n",
       "      <th>description</th>\n",
       "      <th>emotion</th>\n",
       "    </tr>\n",
       "  </thead>\n",
       "  <tbody>\n",
       "    <tr>\n",
       "      <th>0</th>\n",
       "      <td>i didnt feel humiliated</td>\n",
       "      <td>sadness</td>\n",
       "    </tr>\n",
       "    <tr>\n",
       "      <th>1</th>\n",
       "      <td>i can go from feeling so hopeless to so damned...</td>\n",
       "      <td>sadness</td>\n",
       "    </tr>\n",
       "    <tr>\n",
       "      <th>2</th>\n",
       "      <td>im grabbing a minute to post i feel greedy wrong</td>\n",
       "      <td>anger</td>\n",
       "    </tr>\n",
       "    <tr>\n",
       "      <th>3</th>\n",
       "      <td>i am ever feeling nostalgic about the fireplac...</td>\n",
       "      <td>love</td>\n",
       "    </tr>\n",
       "    <tr>\n",
       "      <th>4</th>\n",
       "      <td>i am feeling grouchy</td>\n",
       "      <td>anger</td>\n",
       "    </tr>\n",
       "    <tr>\n",
       "      <th>...</th>\n",
       "      <td>...</td>\n",
       "      <td>...</td>\n",
       "    </tr>\n",
       "    <tr>\n",
       "      <th>15995</th>\n",
       "      <td>i just had a very brief time in the beanbag an...</td>\n",
       "      <td>sadness</td>\n",
       "    </tr>\n",
       "    <tr>\n",
       "      <th>15996</th>\n",
       "      <td>i am now turning and i feel pathetic that i am...</td>\n",
       "      <td>sadness</td>\n",
       "    </tr>\n",
       "    <tr>\n",
       "      <th>15997</th>\n",
       "      <td>i feel strong and good overall</td>\n",
       "      <td>joy</td>\n",
       "    </tr>\n",
       "    <tr>\n",
       "      <th>15998</th>\n",
       "      <td>i feel like this was such a rude comment and i...</td>\n",
       "      <td>anger</td>\n",
       "    </tr>\n",
       "    <tr>\n",
       "      <th>15999</th>\n",
       "      <td>i know a lot but i feel so stupid because i ca...</td>\n",
       "      <td>sadness</td>\n",
       "    </tr>\n",
       "  </tbody>\n",
       "</table>\n",
       "<p>16000 rows × 2 columns</p>\n",
       "</div>"
      ],
      "text/plain": [
       "                                             description  emotion\n",
       "0                                i didnt feel humiliated  sadness\n",
       "1      i can go from feeling so hopeless to so damned...  sadness\n",
       "2       im grabbing a minute to post i feel greedy wrong    anger\n",
       "3      i am ever feeling nostalgic about the fireplac...     love\n",
       "4                                   i am feeling grouchy    anger\n",
       "...                                                  ...      ...\n",
       "15995  i just had a very brief time in the beanbag an...  sadness\n",
       "15996  i am now turning and i feel pathetic that i am...  sadness\n",
       "15997                     i feel strong and good overall      joy\n",
       "15998  i feel like this was such a rude comment and i...    anger\n",
       "15999  i know a lot but i feel so stupid because i ca...  sadness\n",
       "\n",
       "[16000 rows x 2 columns]"
      ]
     },
     "execution_count": 4,
     "metadata": {},
     "output_type": "execute_result"
    }
   ],
   "source": [
    "# train dataset\n",
    "train = create_df('C:/Users/hamro/Desktop/finished_projects/emotion_datasets/emotions/train.txt')\n",
    "train"
   ]
  },
  {
   "cell_type": "code",
   "execution_count": 5,
   "metadata": {},
   "outputs": [
    {
     "name": "stdout",
     "output_type": "stream",
     "text": [
      "missing values: \n",
      "description    0\n",
      "emotion        0\n",
      "dtype: int64 \n",
      "\n",
      "shape:  (16000, 2)\n"
     ]
    }
   ],
   "source": [
    "print(\"missing values: \")\n",
    "print(train.isnull().sum(), '\\n')\n",
    "print(\"shape: \", train.shape)"
   ]
  },
  {
   "cell_type": "code",
   "execution_count": 6,
   "metadata": {},
   "outputs": [],
   "source": [
    "# validation dataset\n",
    "val = create_df('C:/Users/hamro/Desktop/finished_projects/emotion_datasets/emotions/val.txt')"
   ]
  },
  {
   "cell_type": "code",
   "execution_count": 7,
   "metadata": {},
   "outputs": [
    {
     "data": {
      "text/html": [
       "<div>\n",
       "<style scoped>\n",
       "    .dataframe tbody tr th:only-of-type {\n",
       "        vertical-align: middle;\n",
       "    }\n",
       "\n",
       "    .dataframe tbody tr th {\n",
       "        vertical-align: top;\n",
       "    }\n",
       "\n",
       "    .dataframe thead th {\n",
       "        text-align: right;\n",
       "    }\n",
       "</style>\n",
       "<table border=\"1\" class=\"dataframe\">\n",
       "  <thead>\n",
       "    <tr style=\"text-align: right;\">\n",
       "      <th></th>\n",
       "      <th>description</th>\n",
       "      <th>emotion</th>\n",
       "    </tr>\n",
       "  </thead>\n",
       "  <tbody>\n",
       "    <tr>\n",
       "      <th>0</th>\n",
       "      <td>im feeling quite sad and sorry for myself but ...</td>\n",
       "      <td>sadness</td>\n",
       "    </tr>\n",
       "    <tr>\n",
       "      <th>1</th>\n",
       "      <td>i feel like i am still looking at a blank canv...</td>\n",
       "      <td>sadness</td>\n",
       "    </tr>\n",
       "    <tr>\n",
       "      <th>2</th>\n",
       "      <td>i feel like a faithful servant</td>\n",
       "      <td>love</td>\n",
       "    </tr>\n",
       "    <tr>\n",
       "      <th>3</th>\n",
       "      <td>i am just feeling cranky and blue</td>\n",
       "      <td>anger</td>\n",
       "    </tr>\n",
       "    <tr>\n",
       "      <th>4</th>\n",
       "      <td>i can have for a treat or if i am feeling festive</td>\n",
       "      <td>joy</td>\n",
       "    </tr>\n",
       "  </tbody>\n",
       "</table>\n",
       "</div>"
      ],
      "text/plain": [
       "                                         description  emotion\n",
       "0  im feeling quite sad and sorry for myself but ...  sadness\n",
       "1  i feel like i am still looking at a blank canv...  sadness\n",
       "2                     i feel like a faithful servant     love\n",
       "3                  i am just feeling cranky and blue    anger\n",
       "4  i can have for a treat or if i am feeling festive      joy"
      ]
     },
     "execution_count": 7,
     "metadata": {},
     "output_type": "execute_result"
    }
   ],
   "source": [
    "val.head(5)"
   ]
  },
  {
   "cell_type": "code",
   "execution_count": 8,
   "metadata": {},
   "outputs": [
    {
     "name": "stdout",
     "output_type": "stream",
     "text": [
      "missing values: \n",
      "description    0\n",
      "emotion        0\n",
      "dtype: int64 \n",
      "\n",
      "shape:  (2000, 2)\n"
     ]
    }
   ],
   "source": [
    "print(\"missing values: \")\n",
    "print(val.isnull().sum(), '\\n')\n",
    "print(\"shape: \", val.shape)"
   ]
  },
  {
   "cell_type": "markdown",
   "metadata": {},
   "source": [
    "#### testing dataset"
   ]
  },
  {
   "cell_type": "code",
   "execution_count": 9,
   "metadata": {},
   "outputs": [
    {
     "data": {
      "text/html": [
       "<div>\n",
       "<style scoped>\n",
       "    .dataframe tbody tr th:only-of-type {\n",
       "        vertical-align: middle;\n",
       "    }\n",
       "\n",
       "    .dataframe tbody tr th {\n",
       "        vertical-align: top;\n",
       "    }\n",
       "\n",
       "    .dataframe thead th {\n",
       "        text-align: right;\n",
       "    }\n",
       "</style>\n",
       "<table border=\"1\" class=\"dataframe\">\n",
       "  <thead>\n",
       "    <tr style=\"text-align: right;\">\n",
       "      <th></th>\n",
       "      <th>description</th>\n",
       "      <th>emotion</th>\n",
       "    </tr>\n",
       "  </thead>\n",
       "  <tbody>\n",
       "    <tr>\n",
       "      <th>0</th>\n",
       "      <td>im feeling rather rotten so im not very ambiti...</td>\n",
       "      <td>sadness</td>\n",
       "    </tr>\n",
       "    <tr>\n",
       "      <th>1</th>\n",
       "      <td>im updating my blog because i feel shitty</td>\n",
       "      <td>sadness</td>\n",
       "    </tr>\n",
       "    <tr>\n",
       "      <th>2</th>\n",
       "      <td>i never make her separate from me because i do...</td>\n",
       "      <td>sadness</td>\n",
       "    </tr>\n",
       "    <tr>\n",
       "      <th>3</th>\n",
       "      <td>i left with my bouquet of red and yellow tulip...</td>\n",
       "      <td>joy</td>\n",
       "    </tr>\n",
       "    <tr>\n",
       "      <th>4</th>\n",
       "      <td>i was feeling a little vain when i did this one</td>\n",
       "      <td>sadness</td>\n",
       "    </tr>\n",
       "  </tbody>\n",
       "</table>\n",
       "</div>"
      ],
      "text/plain": [
       "                                         description  emotion\n",
       "0  im feeling rather rotten so im not very ambiti...  sadness\n",
       "1          im updating my blog because i feel shitty  sadness\n",
       "2  i never make her separate from me because i do...  sadness\n",
       "3  i left with my bouquet of red and yellow tulip...      joy\n",
       "4    i was feeling a little vain when i did this one  sadness"
      ]
     },
     "execution_count": 9,
     "metadata": {},
     "output_type": "execute_result"
    }
   ],
   "source": [
    "# testing dataset\n",
    "test = create_df('C:/Users/hamro/Desktop/finished_projects/emotion_datasets/emotions/test.txt')\n",
    "test.head(5)"
   ]
  },
  {
   "cell_type": "code",
   "execution_count": 10,
   "metadata": {},
   "outputs": [
    {
     "name": "stdout",
     "output_type": "stream",
     "text": [
      "missing values: \n",
      "description    0\n",
      "emotion        0\n",
      "dtype: int64 \n",
      "\n",
      "shape:  (2000, 2)\n"
     ]
    }
   ],
   "source": [
    "print(\"missing values: \")\n",
    "print(test.isnull().sum(), '\\n')\n",
    "print(\"shape: \", test.shape)"
   ]
  },
  {
   "cell_type": "markdown",
   "metadata": {},
   "source": [
    "### EDA - positive and negative emotions are roughly in a ratio of 1:1"
   ]
  },
  {
   "cell_type": "code",
   "execution_count": 11,
   "metadata": {},
   "outputs": [],
   "source": [
    "vals = train['emotion'].value_counts()"
   ]
  },
  {
   "cell_type": "code",
   "execution_count": 12,
   "metadata": {},
   "outputs": [
    {
     "name": "stderr",
     "output_type": "stream",
     "text": [
      "C:\\Users\\hamro\\Anaconda3\\lib\\site-packages\\seaborn\\_decorators.py:36: FutureWarning: Pass the following variable as a keyword arg: x. From version 0.12, the only valid positional argument will be `data`, and passing other arguments without an explicit keyword will result in an error or misinterpretation.\n",
      "  warnings.warn(\n"
     ]
    },
    {
     "data": {
      "image/png": "[encoded data removed]",
      "text/plain": [
       "<Figure size 720x504 with 1 Axes>"
      ]
     },
     "metadata": {
      "needs_background": "light"
     },
     "output_type": "display_data"
    }
   ],
   "source": [
    "fig = plt.figure(figsize=(10,7))\n",
    "sns.countplot(train['emotion'])\n",
    "plt.title('train emotions', fontsize=14)\n",
    "plt.show()"
   ]
  },
  {
   "cell_type": "code",
   "execution_count": 13,
   "metadata": {},
   "outputs": [
    {
     "name": "stderr",
     "output_type": "stream",
     "text": [
      "C:\\Users\\hamro\\Anaconda3\\lib\\site-packages\\seaborn\\_decorators.py:36: FutureWarning: Pass the following variable as a keyword arg: x. From version 0.12, the only valid positional argument will be `data`, and passing other arguments without an explicit keyword will result in an error or misinterpretation.\n",
      "  warnings.warn(\n"
     ]
    },
    {
     "data": {
      "image/png": "[encoded data removed]",
      "text/plain": [
       "<Figure size 720x504 with 1 Axes>"
      ]
     },
     "metadata": {
      "needs_background": "light"
     },
     "output_type": "display_data"
    }
   ],
   "source": [
    "fig = plt.figure(figsize=(10,7))\n",
    "sns.countplot(val['emotion'])\n",
    "plt.title('validation emotions', fontsize=14)\n",
    "plt.show()"
   ]
  },
  {
   "cell_type": "code",
   "execution_count": 14,
   "metadata": {},
   "outputs": [
    {
     "name": "stderr",
     "output_type": "stream",
     "text": [
      "C:\\Users\\hamro\\Anaconda3\\lib\\site-packages\\seaborn\\_decorators.py:36: FutureWarning: Pass the following variable as a keyword arg: x. From version 0.12, the only valid positional argument will be `data`, and passing other arguments without an explicit keyword will result in an error or misinterpretation.\n",
      "  warnings.warn(\n"
     ]
    },
    {
     "data": {
      "image/png": "[encoded data removed]",
      "text/plain": [
       "<Figure size 720x504 with 1 Axes>"
      ]
     },
     "metadata": {
      "needs_background": "light"
     },
     "output_type": "display_data"
    }
   ],
   "source": [
    "fig = plt.figure(figsize=(10,7))\n",
    "sns.countplot(test['emotion'])\n",
    "plt.title('test emotions', fontsize=14)\n",
    "plt.show()"
   ]
  },
  {
   "cell_type": "markdown",
   "metadata": {},
   "source": [
    "### how many words have sentences?"
   ]
  },
  {
   "cell_type": "code",
   "execution_count": 15,
   "metadata": {},
   "outputs": [
    {
     "data": {
      "text/html": [
       "<div>\n",
       "<style scoped>\n",
       "    .dataframe tbody tr th:only-of-type {\n",
       "        vertical-align: middle;\n",
       "    }\n",
       "\n",
       "    .dataframe tbody tr th {\n",
       "        vertical-align: top;\n",
       "    }\n",
       "\n",
       "    .dataframe thead th {\n",
       "        text-align: right;\n",
       "    }\n",
       "</style>\n",
       "<table border=\"1\" class=\"dataframe\">\n",
       "  <thead>\n",
       "    <tr style=\"text-align: right;\">\n",
       "      <th></th>\n",
       "      <th>num_words_train</th>\n",
       "    </tr>\n",
       "  </thead>\n",
       "  <tbody>\n",
       "    <tr>\n",
       "      <th>0</th>\n",
       "      <td>4</td>\n",
       "    </tr>\n",
       "    <tr>\n",
       "      <th>1</th>\n",
       "      <td>21</td>\n",
       "    </tr>\n",
       "    <tr>\n",
       "      <th>2</th>\n",
       "      <td>10</td>\n",
       "    </tr>\n",
       "    <tr>\n",
       "      <th>3</th>\n",
       "      <td>18</td>\n",
       "    </tr>\n",
       "    <tr>\n",
       "      <th>4</th>\n",
       "      <td>4</td>\n",
       "    </tr>\n",
       "  </tbody>\n",
       "</table>\n",
       "</div>"
      ],
      "text/plain": [
       "   num_words_train\n",
       "0                4\n",
       "1               21\n",
       "2               10\n",
       "3               18\n",
       "4                4"
      ]
     },
     "execution_count": 15,
     "metadata": {},
     "output_type": "execute_result"
    }
   ],
   "source": [
    "num_of_words_train = []\n",
    "num_of_words_val = []\n",
    "num_of_words_test = []\n",
    "for i in range(train['description'].size):\n",
    "    num_of_words_train.append([len(train['description'].loc[i].split(\" \"))])\n",
    "\n",
    "for i in range(val['description'].size):\n",
    "    num_of_words_val.append([len(val['description'].loc[i].split(\" \"))])\n",
    "\n",
    "for i in range(test['description'].size):\n",
    "    num_of_words_test.append([len(test['description'].loc[i].split(\" \"))])\n",
    "\n",
    "n_train = pd.DataFrame(num_of_words_train, columns=['num_words_train'])\n",
    "n_val = pd.DataFrame(num_of_words_val, columns=['num_words_val'])\n",
    "n_test = pd.DataFrame(num_of_words_test, columns=['num_words_test'])\n",
    "n_train.head(5)"
   ]
  },
  {
   "cell_type": "markdown",
   "metadata": {},
   "source": [
    "### how many words per sentence in train dataset"
   ]
  },
  {
   "cell_type": "code",
   "execution_count": 16,
   "metadata": {},
   "outputs": [],
   "source": [
    "# training dataset\n",
    "train_over = n_train[n_train > 34].count()\n",
    "_train= train_over/len(n_train)\n",
    "# val dataset\n",
    "val_over = n_val[n_val > 34].count()\n",
    "_val= val_over/len(n_val)\n",
    "# test dataset\n",
    "test_over = n_test[n_test > 34].count()\n",
    "_test= test_over/len(n_test)"
   ]
  },
  {
   "cell_type": "code",
   "execution_count": 17,
   "metadata": {},
   "outputs": [
    {
     "name": "stderr",
     "output_type": "stream",
     "text": [
      "C:\\Users\\hamro\\Anaconda3\\lib\\site-packages\\seaborn\\_decorators.py:36: FutureWarning: Pass the following variable as a keyword arg: x. From version 0.12, the only valid positional argument will be `data`, and passing other arguments without an explicit keyword will result in an error or misinterpretation.\n",
      "  warnings.warn(\n",
      "C:\\Users\\hamro\\Anaconda3\\lib\\site-packages\\seaborn\\_decorators.py:36: FutureWarning: Pass the following variable as a keyword arg: x. From version 0.12, the only valid positional argument will be `data`, and passing other arguments without an explicit keyword will result in an error or misinterpretation.\n",
      "  warnings.warn(\n",
      "C:\\Users\\hamro\\Anaconda3\\lib\\site-packages\\seaborn\\_decorators.py:36: FutureWarning: Pass the following variable as a keyword arg: x. From version 0.12, the only valid positional argument will be `data`, and passing other arguments without an explicit keyword will result in an error or misinterpretation.\n",
      "  warnings.warn(\n"
     ]
    },
    {
     "data": {
      "image/png": "[encoded data removed]",
      "text/plain": [
       "<Figure size 1080x1080 with 3 Axes>"
      ]
     },
     "metadata": {
      "needs_background": "light"
     },
     "output_type": "display_data"
    }
   ],
   "source": [
    "fig, axes = plt.subplots(3, 1, figsize=(15, 15), sharey=True)\n",
    "sns.countplot(n_train['num_words_train'], ax=axes[0])\n",
    "axes[0].set_title(f\"training dataset, {round(_train[0]*100,2)} % sentences contain 35 or more words\", fontsize=15)\n",
    "sns.countplot(n_val['num_words_val'], ax=axes[1])\n",
    "axes[1].set_title(f\"validation dataset, {round(_val[0]*100,2)} % sentences contain 35 or more words\", fontsize=15)\n",
    "sns.countplot(n_test['num_words_test'], ax=axes[2])\n",
    "axes[2].set_title(f\"testing dataset, {round(_test[0]*100,2)} % sentences contain 35 or more words\", fontsize=15)\n",
    "plt.tight_layout()\n",
    "plt.show()"
   ]
  },
  {
   "cell_type": "markdown",
   "metadata": {},
   "source": [
    "### creating only 2 main emotion groups - positive and negative, multiple classes do not have great results"
   ]
  },
  {
   "cell_type": "code",
   "execution_count": 18,
   "metadata": {},
   "outputs": [],
   "source": [
    "def distinguish_emotions(emotion):\n",
    "    if emotion == 'joy' or emotion == 'love' or emotion == 'surprise':\n",
    "        return 1\n",
    "    else:\n",
    "        return 0\n"
   ]
  },
  {
   "cell_type": "markdown",
   "metadata": {},
   "source": [
    "#### training dataset"
   ]
  },
  {
   "cell_type": "code",
   "execution_count": 19,
   "metadata": {},
   "outputs": [
    {
     "data": {
      "text/html": [
       "<div>\n",
       "<style scoped>\n",
       "    .dataframe tbody tr th:only-of-type {\n",
       "        vertical-align: middle;\n",
       "    }\n",
       "\n",
       "    .dataframe tbody tr th {\n",
       "        vertical-align: top;\n",
       "    }\n",
       "\n",
       "    .dataframe thead th {\n",
       "        text-align: right;\n",
       "    }\n",
       "</style>\n",
       "<table border=\"1\" class=\"dataframe\">\n",
       "  <thead>\n",
       "    <tr style=\"text-align: right;\">\n",
       "      <th></th>\n",
       "      <th>description</th>\n",
       "      <th>emotion</th>\n",
       "      <th>emotion_class</th>\n",
       "    </tr>\n",
       "  </thead>\n",
       "  <tbody>\n",
       "    <tr>\n",
       "      <th>0</th>\n",
       "      <td>i didnt feel humiliated</td>\n",
       "      <td>sadness</td>\n",
       "      <td>0</td>\n",
       "    </tr>\n",
       "    <tr>\n",
       "      <th>1</th>\n",
       "      <td>i can go from feeling so hopeless to so damned...</td>\n",
       "      <td>sadness</td>\n",
       "      <td>0</td>\n",
       "    </tr>\n",
       "    <tr>\n",
       "      <th>2</th>\n",
       "      <td>im grabbing a minute to post i feel greedy wrong</td>\n",
       "      <td>anger</td>\n",
       "      <td>0</td>\n",
       "    </tr>\n",
       "    <tr>\n",
       "      <th>3</th>\n",
       "      <td>i am ever feeling nostalgic about the fireplac...</td>\n",
       "      <td>love</td>\n",
       "      <td>1</td>\n",
       "    </tr>\n",
       "    <tr>\n",
       "      <th>4</th>\n",
       "      <td>i am feeling grouchy</td>\n",
       "      <td>anger</td>\n",
       "      <td>0</td>\n",
       "    </tr>\n",
       "  </tbody>\n",
       "</table>\n",
       "</div>"
      ],
      "text/plain": [
       "                                         description  emotion  emotion_class\n",
       "0                            i didnt feel humiliated  sadness              0\n",
       "1  i can go from feeling so hopeless to so damned...  sadness              0\n",
       "2   im grabbing a minute to post i feel greedy wrong    anger              0\n",
       "3  i am ever feeling nostalgic about the fireplac...     love              1\n",
       "4                               i am feeling grouchy    anger              0"
      ]
     },
     "execution_count": 19,
     "metadata": {},
     "output_type": "execute_result"
    }
   ],
   "source": [
    "train['emotion_class'] = train['emotion'].apply(distinguish_emotions)\n",
    "train.head()"
   ]
  },
  {
   "cell_type": "code",
   "execution_count": 20,
   "metadata": {},
   "outputs": [
    {
     "data": {
      "text/plain": [
       "0    8762\n",
       "1    7238\n",
       "Name: emotion_class, dtype: int64"
      ]
     },
     "execution_count": 20,
     "metadata": {},
     "output_type": "execute_result"
    }
   ],
   "source": [
    "train['emotion_class'].value_counts()"
   ]
  },
  {
   "cell_type": "markdown",
   "metadata": {},
   "source": [
    "#### undersample negative emotion"
   ]
  },
  {
   "cell_type": "code",
   "execution_count": 21,
   "metadata": {},
   "outputs": [],
   "source": [
    "pos_indices = list(train[train['emotion_class'] == 1].index)\n",
    "neg_indices = list(train[train['emotion_class'] == 0].index)\n",
    " \n",
    "rand_neg_indexes = random.sample(neg_indices, 7238)\n",
    "\n",
    "all_indices_to_pick = sorted(pos_indices + rand_neg_indexes)\n",
    "\n",
    "len(all_indices_to_pick)\n",
    "balanced_train = train.iloc[all_indices_to_pick]"
   ]
  },
  {
   "cell_type": "code",
   "execution_count": 22,
   "metadata": {},
   "outputs": [
    {
     "data": {
      "text/plain": [
       "0    7238\n",
       "1    7238\n",
       "Name: emotion_class, dtype: int64"
      ]
     },
     "execution_count": 22,
     "metadata": {},
     "output_type": "execute_result"
    }
   ],
   "source": [
    "balanced_train['emotion_class'].value_counts()"
   ]
  },
  {
   "cell_type": "markdown",
   "metadata": {},
   "source": [
    "#### training data - data, target"
   ]
  },
  {
   "cell_type": "code",
   "execution_count": 23,
   "metadata": {},
   "outputs": [],
   "source": [
    "X_train = balanced_train['description']\n",
    "target_train = balanced_train['emotion_class']"
   ]
  },
  {
   "cell_type": "markdown",
   "metadata": {},
   "source": [
    "#### validation dataset"
   ]
  },
  {
   "cell_type": "code",
   "execution_count": 24,
   "metadata": {},
   "outputs": [
    {
     "data": {
      "text/html": [
       "<div>\n",
       "<style scoped>\n",
       "    .dataframe tbody tr th:only-of-type {\n",
       "        vertical-align: middle;\n",
       "    }\n",
       "\n",
       "    .dataframe tbody tr th {\n",
       "        vertical-align: top;\n",
       "    }\n",
       "\n",
       "    .dataframe thead th {\n",
       "        text-align: right;\n",
       "    }\n",
       "</style>\n",
       "<table border=\"1\" class=\"dataframe\">\n",
       "  <thead>\n",
       "    <tr style=\"text-align: right;\">\n",
       "      <th></th>\n",
       "      <th>description</th>\n",
       "      <th>emotion</th>\n",
       "      <th>emotion_class</th>\n",
       "    </tr>\n",
       "  </thead>\n",
       "  <tbody>\n",
       "    <tr>\n",
       "      <th>0</th>\n",
       "      <td>im feeling quite sad and sorry for myself but ...</td>\n",
       "      <td>sadness</td>\n",
       "      <td>0</td>\n",
       "    </tr>\n",
       "    <tr>\n",
       "      <th>1</th>\n",
       "      <td>i feel like i am still looking at a blank canv...</td>\n",
       "      <td>sadness</td>\n",
       "      <td>0</td>\n",
       "    </tr>\n",
       "    <tr>\n",
       "      <th>2</th>\n",
       "      <td>i feel like a faithful servant</td>\n",
       "      <td>love</td>\n",
       "      <td>1</td>\n",
       "    </tr>\n",
       "    <tr>\n",
       "      <th>3</th>\n",
       "      <td>i am just feeling cranky and blue</td>\n",
       "      <td>anger</td>\n",
       "      <td>0</td>\n",
       "    </tr>\n",
       "    <tr>\n",
       "      <th>4</th>\n",
       "      <td>i can have for a treat or if i am feeling festive</td>\n",
       "      <td>joy</td>\n",
       "      <td>1</td>\n",
       "    </tr>\n",
       "  </tbody>\n",
       "</table>\n",
       "</div>"
      ],
      "text/plain": [
       "                                         description  emotion  emotion_class\n",
       "0  im feeling quite sad and sorry for myself but ...  sadness              0\n",
       "1  i feel like i am still looking at a blank canv...  sadness              0\n",
       "2                     i feel like a faithful servant     love              1\n",
       "3                  i am just feeling cranky and blue    anger              0\n",
       "4  i can have for a treat or if i am feeling festive      joy              1"
      ]
     },
     "execution_count": 24,
     "metadata": {},
     "output_type": "execute_result"
    }
   ],
   "source": [
    "val['emotion_class'] = val['emotion'].apply(distinguish_emotions)\n",
    "val.head()"
   ]
  },
  {
   "cell_type": "code",
   "execution_count": 25,
   "metadata": {},
   "outputs": [
    {
     "data": {
      "text/plain": [
       "0    1037\n",
       "1     963\n",
       "Name: emotion_class, dtype: int64"
      ]
     },
     "execution_count": 25,
     "metadata": {},
     "output_type": "execute_result"
    }
   ],
   "source": [
    "val['emotion_class'].value_counts()"
   ]
  },
  {
   "cell_type": "code",
   "execution_count": 26,
   "metadata": {},
   "outputs": [],
   "source": [
    "pos_indices = list(val[val['emotion_class'] == 1].index)\n",
    "neg_indices = list(val[val['emotion_class'] == 0].index)\n",
    " \n",
    "rand_neg_indexes = random.sample(neg_indices, 963)\n",
    "\n",
    "all_indices_to_pick = sorted(pos_indices + rand_neg_indexes)\n",
    "\n",
    "len(all_indices_to_pick)\n",
    "balanced_val = val.iloc[all_indices_to_pick]"
   ]
  },
  {
   "cell_type": "markdown",
   "metadata": {},
   "source": [
    "#### validation data - val, target"
   ]
  },
  {
   "cell_type": "code",
   "execution_count": 27,
   "metadata": {},
   "outputs": [],
   "source": [
    "X_val = balanced_val['description']\n",
    "target_val = balanced_val['emotion_class']"
   ]
  },
  {
   "cell_type": "markdown",
   "metadata": {},
   "source": [
    "#### testing dataset"
   ]
  },
  {
   "cell_type": "code",
   "execution_count": 28,
   "metadata": {},
   "outputs": [
    {
     "data": {
      "text/html": [
       "<div>\n",
       "<style scoped>\n",
       "    .dataframe tbody tr th:only-of-type {\n",
       "        vertical-align: middle;\n",
       "    }\n",
       "\n",
       "    .dataframe tbody tr th {\n",
       "        vertical-align: top;\n",
       "    }\n",
       "\n",
       "    .dataframe thead th {\n",
       "        text-align: right;\n",
       "    }\n",
       "</style>\n",
       "<table border=\"1\" class=\"dataframe\">\n",
       "  <thead>\n",
       "    <tr style=\"text-align: right;\">\n",
       "      <th></th>\n",
       "      <th>description</th>\n",
       "      <th>emotion</th>\n",
       "      <th>emotion_class</th>\n",
       "    </tr>\n",
       "  </thead>\n",
       "  <tbody>\n",
       "    <tr>\n",
       "      <th>0</th>\n",
       "      <td>im feeling rather rotten so im not very ambiti...</td>\n",
       "      <td>sadness</td>\n",
       "      <td>0</td>\n",
       "    </tr>\n",
       "    <tr>\n",
       "      <th>1</th>\n",
       "      <td>im updating my blog because i feel shitty</td>\n",
       "      <td>sadness</td>\n",
       "      <td>0</td>\n",
       "    </tr>\n",
       "    <tr>\n",
       "      <th>2</th>\n",
       "      <td>i never make her separate from me because i do...</td>\n",
       "      <td>sadness</td>\n",
       "      <td>0</td>\n",
       "    </tr>\n",
       "    <tr>\n",
       "      <th>3</th>\n",
       "      <td>i left with my bouquet of red and yellow tulip...</td>\n",
       "      <td>joy</td>\n",
       "      <td>1</td>\n",
       "    </tr>\n",
       "    <tr>\n",
       "      <th>4</th>\n",
       "      <td>i was feeling a little vain when i did this one</td>\n",
       "      <td>sadness</td>\n",
       "      <td>0</td>\n",
       "    </tr>\n",
       "  </tbody>\n",
       "</table>\n",
       "</div>"
      ],
      "text/plain": [
       "                                         description  emotion  emotion_class\n",
       "0  im feeling rather rotten so im not very ambiti...  sadness              0\n",
       "1          im updating my blog because i feel shitty  sadness              0\n",
       "2  i never make her separate from me because i do...  sadness              0\n",
       "3  i left with my bouquet of red and yellow tulip...      joy              1\n",
       "4    i was feeling a little vain when i did this one  sadness              0"
      ]
     },
     "execution_count": 28,
     "metadata": {},
     "output_type": "execute_result"
    }
   ],
   "source": [
    "test['emotion_class'] = test['emotion'].apply(distinguish_emotions)\n",
    "test.head()"
   ]
  },
  {
   "cell_type": "code",
   "execution_count": 29,
   "metadata": {},
   "outputs": [
    {
     "data": {
      "text/plain": [
       "0    1080\n",
       "1     920\n",
       "Name: emotion_class, dtype: int64"
      ]
     },
     "execution_count": 29,
     "metadata": {},
     "output_type": "execute_result"
    }
   ],
   "source": [
    "test['emotion_class'].value_counts()"
   ]
  },
  {
   "cell_type": "code",
   "execution_count": 30,
   "metadata": {},
   "outputs": [],
   "source": [
    "pos_indices = list(test[test['emotion_class'] == 1].index)\n",
    "neg_indices = list(test[test['emotion_class'] == 0].index)\n",
    " \n",
    "rand_neg_indexes = random.sample(neg_indices, 920)\n",
    "\n",
    "all_indices_to_pick = sorted(pos_indices + rand_neg_indexes)\n",
    "\n",
    "len(all_indices_to_pick)\n",
    "balanced_test = test.iloc[all_indices_to_pick]"
   ]
  },
  {
   "cell_type": "code",
   "execution_count": 31,
   "metadata": {},
   "outputs": [
    {
     "data": {
      "text/plain": [
       "0    920\n",
       "1    920\n",
       "Name: emotion_class, dtype: int64"
      ]
     },
     "execution_count": 31,
     "metadata": {},
     "output_type": "execute_result"
    }
   ],
   "source": [
    "balanced_test['emotion_class'].value_counts()"
   ]
  },
  {
   "cell_type": "code",
   "execution_count": 32,
   "metadata": {},
   "outputs": [],
   "source": [
    "X_test = balanced_test['description']\n",
    "target_test = balanced_test['emotion_class']"
   ]
  },
  {
   "cell_type": "markdown",
   "metadata": {},
   "source": [
    "### text preprocession"
   ]
  },
  {
   "cell_type": "code",
   "execution_count": 33,
   "metadata": {},
   "outputs": [],
   "source": [
    "def preprocessing(data):    \n",
    "    ps = PorterStemmer()\n",
    "    corpus = []\n",
    "    for i in data:\n",
    "        review = re.sub('[^a-zA-Z]', ' ', i)\n",
    "        review = review.lower()\n",
    "        review = review.split()\n",
    "        review = [ps.stem(word) for word in review if not word in stopwords.words('english')]\n",
    "        review = ' '.join(review)\n",
    "        if review != '':\n",
    "            corpus.append(review)\n",
    "    return corpus"
   ]
  },
  {
   "cell_type": "markdown",
   "metadata": {},
   "source": [
    "### vectorizing text and creating embedded layer with fixed lenght set to 40 words per sentence"
   ]
  },
  {
   "cell_type": "code",
   "execution_count": 34,
   "metadata": {},
   "outputs": [],
   "source": [
    "def vectorize_sentence(corpus):\n",
    "    # Vocabulary size\n",
    "    voc_size=10000\n",
    "    onehot_repr=[one_hot(words,voc_size)for words in corpus] \n",
    "    # creating embedding layer as the input layer for our model we fixed lenght set to 40\n",
    "    sent_length=40\n",
    "    # pad sequence - we have to always input vector of the same size, but sentences are of \n",
    "    embedded_words=pad_sequences(onehot_repr,padding='pre',maxlen=sent_length)\n",
    "    return embedded_words"
   ]
  },
  {
   "cell_type": "code",
   "execution_count": 35,
   "metadata": {},
   "outputs": [],
   "source": [
    " def input_layer(data):\n",
    "    corpus = preprocessing(data)\n",
    "    embedded_input = vectorize_sentence(corpus)\n",
    "    return embedded_input"
   ]
  },
  {
   "cell_type": "code",
   "execution_count": 36,
   "metadata": {},
   "outputs": [
    {
     "name": "stdout",
     "output_type": "stream",
     "text": [
      "Requirement already satisfied: h5py in c:\\users\\hamro\\appdata\\roaming\\python\\python38\\site-packages (3.6.0)\n",
      "Requirement already satisfied: pyyaml in c:\\users\\hamro\\anaconda3\\lib\\site-packages (5.3.1)\n",
      "Requirement already satisfied: numpy>=1.14.5 in c:\\users\\hamro\\appdata\\roaming\\python\\python38\\site-packages (from h5py) (1.22.0)\n"
     ]
    },
    {
     "name": "stderr",
     "output_type": "stream",
     "text": [
      "WARNING: Ignoring invalid distribution -tatsmodels (c:\\users\\hamro\\anaconda3\\lib\\site-packages)\n",
      "WARNING: Ignoring invalid distribution -tatsmodels (c:\\users\\hamro\\anaconda3\\lib\\site-packages)\n",
      "WARNING: Ignoring invalid distribution -tatsmodels (c:\\users\\hamro\\anaconda3\\lib\\site-packages)\n",
      "WARNING: Ignoring invalid distribution -tatsmodels (c:\\users\\hamro\\anaconda3\\lib\\site-packages)\n",
      "WARNING: Ignoring invalid distribution -tatsmodels (c:\\users\\hamro\\anaconda3\\lib\\site-packages)\n",
      "WARNING: Ignoring invalid distribution -tatsmodels (c:\\users\\hamro\\anaconda3\\lib\\site-packages)\n",
      "WARNING: You are using pip version 21.3.1; however, version 22.1.2 is available.\n",
      "You should consider upgrading via the 'c:\\users\\hamro\\anaconda3\\python.exe -m pip install --upgrade pip' command.\n"
     ]
    }
   ],
   "source": [
    "!pip install h5py pyyaml"
   ]
  },
  {
   "cell_type": "markdown",
   "metadata": {},
   "source": [
    "### training input"
   ]
  },
  {
   "cell_type": "code",
   "execution_count": 37,
   "metadata": {},
   "outputs": [],
   "source": [
    "input_train = input_layer(X_train)"
   ]
  },
  {
   "cell_type": "markdown",
   "metadata": {},
   "source": [
    "### validation input"
   ]
  },
  {
   "cell_type": "code",
   "execution_count": 38,
   "metadata": {},
   "outputs": [],
   "source": [
    "input_val = input_layer(X_val)"
   ]
  },
  {
   "cell_type": "markdown",
   "metadata": {},
   "source": [
    "### test input"
   ]
  },
  {
   "cell_type": "code",
   "execution_count": 39,
   "metadata": {},
   "outputs": [],
   "source": [
    "input_test = input_layer(X_test)"
   ]
  },
  {
   "cell_type": "markdown",
   "metadata": {},
   "source": [
    "### create model (NN) - input: embedded layer with fixed length set to 40, hidden layer - LSTM layer, output - one value (using Sigmoid function) \n"
   ]
  },
  {
   "cell_type": "code",
   "execution_count": 40,
   "metadata": {},
   "outputs": [
    {
     "name": "stdout",
     "output_type": "stream",
     "text": [
      "Model: \"sequential\"\n",
      "_________________________________________________________________\n",
      " Layer (type)                Output Shape              Param #   \n",
      "=================================================================\n",
      " embedding (Embedding)       (None, 40, 80)            800000    \n",
      "                                                                 \n",
      " dropout (Dropout)           (None, 40, 80)            0         \n",
      "                                                                 \n",
      " lstm (LSTM)                 (None, 10)                3640      \n",
      "                                                                 \n",
      " dropout_1 (Dropout)         (None, 10)                0         \n",
      "                                                                 \n",
      " dense (Dense)               (None, 1)                 11        \n",
      "                                                                 \n",
      "=================================================================\n",
      "Total params: 803,651\n",
      "Trainable params: 803,651\n",
      "Non-trainable params: 0\n",
      "_________________________________________________________________\n",
      "None\n"
     ]
    }
   ],
   "source": [
    "## Creating model\n",
    "voc_size=10000\n",
    "input_length = 40\n",
    "embedding_vector_features=80\n",
    "model=Sequential()\n",
    "model.add(Embedding(voc_size,embedding_vector_features,input_length=input_length))\n",
    "model.add(Dropout(0.5))\n",
    "model.add(LSTM(10))\n",
    "model.add(Dropout(0.5))\n",
    "model.add(Dense(1,activation='sigmoid'))\n",
    "model.compile(loss='binary_crossentropy',optimizer='adam',metrics=['accuracy'])\n",
    "print(model.summary())"
   ]
  },
  {
   "cell_type": "markdown",
   "metadata": {},
   "source": [
    "### prepare input data"
   ]
  },
  {
   "cell_type": "code",
   "execution_count": 41,
   "metadata": {},
   "outputs": [],
   "source": [
    "# training data\n",
    "X_train=np.array(input_train)\n",
    "y_train=np.array(target_train)\n",
    "# validation data\n",
    "X_val = np.array(input_val)\n",
    "y_val = np.array(target_val)\n",
    "# testing data\n",
    "X_test = np.array(input_test)\n",
    "y_test = np.array(target_test)"
   ]
  },
  {
   "cell_type": "markdown",
   "metadata": {},
   "source": [
    "### early stopping "
   ]
  },
  {
   "cell_type": "code",
   "execution_count": 42,
   "metadata": {},
   "outputs": [],
   "source": [
    "# implementing early stopping\n",
    "early_stopping = keras.callbacks.EarlyStopping(\n",
    "    # if val loss increases 5 epochs in a row\n",
    "    patience=3,\n",
    "    min_delta=0.001,\n",
    "    restore_best_weights=True,\n",
    ")"
   ]
  },
  {
   "cell_type": "code",
   "execution_count": 43,
   "metadata": {},
   "outputs": [
    {
     "name": "stdout",
     "output_type": "stream",
     "text": [
      "Epoch 1/30\n",
      "227/227 [==============================] - 6s 21ms/step - loss: 0.6196 - accuracy: 0.6764 - val_loss: 0.4237 - val_accuracy: 0.8546\n",
      "Epoch 2/30\n",
      "227/227 [==============================] - 4s 19ms/step - loss: 0.2937 - accuracy: 0.9029 - val_loss: 0.2090 - val_accuracy: 0.9273\n",
      "Epoch 3/30\n",
      "227/227 [==============================] - 4s 19ms/step - loss: 0.1676 - accuracy: 0.9527 - val_loss: 0.1848 - val_accuracy: 0.9346\n",
      "Epoch 4/30\n",
      "227/227 [==============================] - 4s 19ms/step - loss: 0.1253 - accuracy: 0.9654 - val_loss: 0.1823 - val_accuracy: 0.9377\n",
      "Epoch 5/30\n",
      "227/227 [==============================] - 4s 19ms/step - loss: 0.1036 - accuracy: 0.9709 - val_loss: 0.1830 - val_accuracy: 0.9418\n",
      "Epoch 6/30\n",
      "227/227 [==============================] - 4s 19ms/step - loss: 0.0872 - accuracy: 0.9764 - val_loss: 0.1950 - val_accuracy: 0.9372\n",
      "Epoch 7/30\n",
      "227/227 [==============================] - 4s 19ms/step - loss: 0.0758 - accuracy: 0.9782 - val_loss: 0.2086 - val_accuracy: 0.9377\n"
     ]
    }
   ],
   "source": [
    "# Training\n",
    "# verbose 0 - hides output - too many epochs\n",
    "\n",
    "history = model.fit(X_train,y_train,\n",
    "                    validation_data=(X_val,y_val),\n",
    "                    epochs=30,\n",
    "                    batch_size=64,\n",
    "                    callbacks=[early_stopping],\n",
    "                    verbose = 1,\n",
    "                   ) "
   ]
  },
  {
   "cell_type": "markdown",
   "metadata": {},
   "source": [
    "### model evaluation - it slighlty overfitts"
   ]
  },
  {
   "cell_type": "code",
   "execution_count": 44,
   "metadata": {},
   "outputs": [
    {
     "data": {
      "image/png": "[encoded data removed]",
      "text/plain": [
       "<Figure size 864x576 with 1 Axes>"
      ]
     },
     "metadata": {
      "needs_background": "light"
     },
     "output_type": "display_data"
    }
   ],
   "source": [
    "history_df = pd.DataFrame(history.history)\n",
    "history_df.loc[:, ['loss', 'val_loss', 'accuracy']].plot(figsize=(12,8))\n",
    "plt.title(\"training and validation loss\")\n",
    "plt.xlabel('epochs')\n",
    "plt.ylabel('loss')\n",
    "plt.show()"
   ]
  },
  {
   "cell_type": "code",
   "execution_count": 45,
   "metadata": {},
   "outputs": [
    {
     "data": {
      "image/png": "[encoded data removed]",
      "text/plain": [
       "<Figure size 432x288 with 1 Axes>"
      ]
     },
     "metadata": {
      "needs_background": "light"
     },
     "output_type": "display_data"
    }
   ],
   "source": [
    "history_df.loc[:, ['accuracy', 'val_accuracy']].plot()\n",
    "plt.title(\"training and validation accuracy\")\n",
    "plt.xlabel('epochs')\n",
    "plt.ylabel('loss')\n",
    "plt.show()\n"
   ]
  },
  {
   "cell_type": "markdown",
   "metadata": {},
   "source": [
    "### evaluate our model, prediction, test"
   ]
  },
  {
   "cell_type": "code",
   "execution_count": 46,
   "metadata": {},
   "outputs": [],
   "source": [
    "predictions = (model.predict(X_test) > 0.5).astype(\"int32\")"
   ]
  },
  {
   "cell_type": "code",
   "execution_count": 47,
   "metadata": {},
   "outputs": [
    {
     "data": {
      "text/plain": [
       "0.9380434782608695"
      ]
     },
     "execution_count": 47,
     "metadata": {},
     "output_type": "execute_result"
    }
   ],
   "source": [
    "from sklearn.metrics import accuracy_score\n",
    "accuracy_score(y_test,predictions)"
   ]
  },
  {
   "cell_type": "code",
   "execution_count": 48,
   "metadata": {},
   "outputs": [
    {
     "data": {
      "text/plain": [
       "array([[869,  51],\n",
       "       [ 63, 857]], dtype=int64)"
      ]
     },
     "execution_count": 48,
     "metadata": {},
     "output_type": "execute_result"
    }
   ],
   "source": [
    "confusion_matrix(y_test,predictions)"
   ]
  },
  {
   "cell_type": "code",
   "execution_count": 49,
   "metadata": {},
   "outputs": [
    {
     "data": {
      "image/png": "[encoded data removed]",
      "text/plain": [
       "<Figure size 432x288 with 2 Axes>"
      ]
     },
     "metadata": {
      "needs_background": "light"
     },
     "output_type": "display_data"
    }
   ],
   "source": [
    "cm = confusion_matrix(y_test,predictions)\n",
    "disp = ConfusionMatrixDisplay(confusion_matrix=cm)\n",
    "disp.plot(cmap=plt.cm.Blues)\n",
    "plt.show()\n"
   ]
  },
  {
   "cell_type": "code",
   "execution_count": 50,
   "metadata": {},
   "outputs": [
    {
     "name": "stdout",
     "output_type": "stream",
     "text": [
      "              precision    recall  f1-score   support\n",
      "\n",
      "           0       0.94      0.93      0.94       932\n",
      "           1       0.93      0.94      0.94       908\n",
      "\n",
      "    accuracy                           0.94      1840\n",
      "   macro avg       0.94      0.94      0.94      1840\n",
      "weighted avg       0.94      0.94      0.94      1840\n",
      "\n"
     ]
    }
   ],
   "source": [
    "print(metrics.classification_report(predictions, y_test))"
   ]
  },
  {
   "cell_type": "code",
   "execution_count": 51,
   "metadata": {},
   "outputs": [
    {
     "data": {
      "text/plain": [
       "<keras.optimizer_v2.adam.Adam at 0x20d025a1610>"
      ]
     },
     "execution_count": 51,
     "metadata": {},
     "output_type": "execute_result"
    }
   ],
   "source": [
    "model.optimizer"
   ]
  },
  {
   "cell_type": "code",
   "execution_count": 52,
   "metadata": {},
   "outputs": [
    {
     "name": "stdout",
     "output_type": "stream",
     "text": [
      "Model: \"sequential\"\n",
      "_________________________________________________________________\n",
      " Layer (type)                Output Shape              Param #   \n",
      "=================================================================\n",
      " embedding (Embedding)       (None, 40, 80)            800000    \n",
      "                                                                 \n",
      " dropout (Dropout)           (None, 40, 80)            0         \n",
      "                                                                 \n",
      " lstm (LSTM)                 (None, 10)                3640      \n",
      "                                                                 \n",
      " dropout_1 (Dropout)         (None, 10)                0         \n",
      "                                                                 \n",
      " dense (Dense)               (None, 1)                 11        \n",
      "                                                                 \n",
      "=================================================================\n",
      "Total params: 803,651\n",
      "Trainable params: 803,651\n",
      "Non-trainable params: 0\n",
      "_________________________________________________________________\n"
     ]
    }
   ],
   "source": [
    "model.summary()"
   ]
  },
  {
   "cell_type": "code",
   "execution_count": 53,
   "metadata": {},
   "outputs": [
    {
     "data": {
      "text/plain": [
       "[<tf.Variable 'embedding/embeddings:0' shape=(10000, 80) dtype=float32, numpy=\n",
       " array([[-0.04071498,  0.03953118,  0.01425541, ...,  0.06153536,\n",
       "          0.04435271, -0.04093556],\n",
       "        [-0.04075851,  0.02184418, -0.02053154, ...,  0.02778795,\n",
       "         -0.00732799,  0.04528702],\n",
       "        [ 0.02906452,  0.0091879 , -0.05119394, ..., -0.01780589,\n",
       "          0.006808  , -0.00672844],\n",
       "        ...,\n",
       "        [-0.01431614,  0.02713856, -0.04473444, ..., -0.00344779,\n",
       "         -0.02473254,  0.00710503],\n",
       "        [ 0.04740296, -0.00833767,  0.04954505, ...,  0.02669608,\n",
       "          0.03389666, -0.05249121],\n",
       "        [ 0.08128535, -0.00093454, -0.11777657, ..., -0.11564777,\n",
       "         -0.07519346,  0.07941928]], dtype=float32)>,\n",
       " <tf.Variable 'lstm/lstm_cell/kernel:0' shape=(80, 40) dtype=float32, numpy=\n",
       " array([[ 0.01448452, -0.03717665,  0.12792796, ..., -0.29071876,\n",
       "          0.3713689 ,  0.23081964],\n",
       "        [-0.11109252, -0.12996241, -0.30056584, ..., -0.28937423,\n",
       "         -0.09483696,  0.00904707],\n",
       "        [ 0.29932818, -0.22779937,  0.09721421, ...,  0.33150595,\n",
       "         -0.16890056, -0.08535903],\n",
       "        ...,\n",
       "        [ 0.09681736,  0.06074741, -0.0590277 , ...,  0.07368435,\n",
       "         -0.23396225, -0.2406793 ],\n",
       "        [-0.00151777, -0.19813433, -0.29332572, ...,  0.03407894,\n",
       "         -0.42502907, -0.2709294 ],\n",
       "        [ 0.1383627 ,  0.1475278 , -0.14936116, ...,  0.04040574,\n",
       "         -0.00332753,  0.12430093]], dtype=float32)>,\n",
       " <tf.Variable 'lstm/lstm_cell/recurrent_kernel:0' shape=(10, 40) dtype=float32, numpy=\n",
       " array([[-3.18875670e-01,  5.97257875e-02, -5.04705846e-01,\n",
       "         -5.17492890e-01, -1.68009236e-01, -4.35092419e-01,\n",
       "         -6.24045014e-01, -2.09723055e-01, -2.62805551e-01,\n",
       "         -4.19086486e-01, -2.19256505e-01,  4.11489010e-01,\n",
       "         -4.60462198e-02, -1.61723495e-01, -1.92630187e-01,\n",
       "         -2.24992260e-01, -1.36543363e-01, -1.50893196e-01,\n",
       "          1.92762822e-01, -3.50233763e-02,  2.94491291e-01,\n",
       "          7.90876523e-02,  7.03838244e-02,  1.57918464e-02,\n",
       "         -9.60700065e-02, -1.74038574e-01, -7.88805783e-02,\n",
       "         -2.44951490e-02,  3.20744187e-01,  3.10743302e-01,\n",
       "         -4.60215598e-01,  5.44240698e-02, -1.38374075e-01,\n",
       "         -4.52417910e-01, -6.66746423e-02, -4.13303912e-01,\n",
       "         -3.30515206e-01,  9.76571292e-02, -4.79570150e-01,\n",
       "         -4.89993334e-01],\n",
       "        [ 1.90811709e-01,  1.75777614e-01,  1.53889790e-01,\n",
       "          4.51601774e-01,  4.64377813e-02,  3.16836536e-01,\n",
       "          4.29857403e-01,  2.50929713e-01,  5.04920185e-01,\n",
       "          5.32999784e-02, -1.70036748e-01,  2.21190006e-01,\n",
       "         -7.37767443e-02,  3.01142663e-01, -2.76682284e-02,\n",
       "         -4.78008315e-02,  1.05258912e-01,  9.21742469e-02,\n",
       "         -9.56319645e-02, -3.66506241e-02, -1.63157638e-02,\n",
       "          3.54708254e-01,  3.55923362e-02,  2.20621213e-01,\n",
       "          2.86423832e-01,  2.10820317e-01, -1.47224277e-01,\n",
       "         -4.45203558e-02, -5.87504022e-02,  3.54621410e-02,\n",
       "          2.26570576e-01,  1.14141040e-01,  3.25425386e-01,\n",
       "          4.66621190e-01, -1.89478263e-01,  1.89914495e-01,\n",
       "          6.05663300e-01,  2.21272469e-01,  4.64493692e-01,\n",
       "          5.08921683e-01],\n",
       "        [ 2.55815059e-01,  7.24417940e-02, -2.35743020e-02,\n",
       "          1.26247644e-01, -8.48285854e-03,  2.08468065e-01,\n",
       "          5.30217290e-01,  2.83844560e-01,  3.54946293e-02,\n",
       "         -2.16970757e-01,  7.98781589e-02,  1.47069737e-01,\n",
       "          9.01007354e-02, -8.24783295e-02,  8.32614675e-02,\n",
       "         -1.65122747e-01, -9.89211444e-03,  1.16855018e-01,\n",
       "          1.28034666e-01,  6.20529018e-02,  1.46624431e-01,\n",
       "          1.56428322e-01, -2.87818965e-02, -2.54108578e-01,\n",
       "          1.24012858e-01, -5.10282554e-02,  3.40617269e-01,\n",
       "         -3.14646035e-01,  3.34218115e-01, -4.72905636e-01,\n",
       "         -1.74224183e-01,  3.97245213e-02,  3.41187626e-01,\n",
       "         -6.13891445e-02, -9.30315722e-03, -1.13928571e-01,\n",
       "          3.96050155e-01,  5.27986109e-01,  2.17638701e-01,\n",
       "          2.98475266e-01],\n",
       "        [-2.94591218e-01, -2.33206730e-02, -2.16140524e-01,\n",
       "         -2.64918268e-01, -2.60096699e-01, -4.42540556e-01,\n",
       "         -5.32963574e-01, -2.83151776e-01, -3.10810596e-01,\n",
       "         -1.61450163e-01,  2.85293907e-01, -1.64890266e-03,\n",
       "         -2.55187780e-01,  1.42806262e-01, -4.39422093e-02,\n",
       "          1.94125757e-01, -6.77386224e-02,  7.45648965e-02,\n",
       "         -1.47584319e-01,  2.15150774e-01,  2.46530280e-01,\n",
       "         -3.49897087e-01, -6.30276129e-02,  5.85836768e-02,\n",
       "          3.28275263e-02,  1.74974427e-01,  6.50822967e-02,\n",
       "          2.17936024e-01, -1.34714887e-01,  8.67787823e-02,\n",
       "         -1.23593554e-01, -2.38743931e-01, -2.03201741e-01,\n",
       "         -3.21612030e-01,  1.36450931e-01, -2.57175326e-01,\n",
       "         -1.31119296e-01, -5.76755226e-01,  1.36789903e-02,\n",
       "          7.19035044e-02],\n",
       "        [ 4.24999654e-01,  2.90881872e-01,  6.19567752e-01,\n",
       "          3.32722604e-01,  2.11269721e-01,  7.38065302e-01,\n",
       "          8.38590264e-01,  2.73314774e-01,  3.53121996e-01,\n",
       "          4.63114053e-01,  1.97710712e-02,  2.00239301e-01,\n",
       "          3.31369936e-01, -3.70958634e-02,  1.90320060e-01,\n",
       "          3.10758770e-01,  2.04475492e-01,  1.21031450e-02,\n",
       "          9.84910876e-02, -1.64115746e-02,  9.63915065e-02,\n",
       "         -1.95132762e-01,  1.22466840e-01, -2.10909322e-02,\n",
       "          2.70971693e-02,  1.91052316e-03,  4.07667458e-02,\n",
       "         -2.16230199e-01, -1.36487916e-01,  3.48242968e-01,\n",
       "          5.30972958e-01,  3.55889171e-01,  4.86822277e-01,\n",
       "          4.87733454e-01,  2.96797395e-01,  2.47890189e-01,\n",
       "          6.91622019e-01,  6.40353560e-02,  5.04676342e-01,\n",
       "          7.31184423e-01],\n",
       "        [ 2.81602293e-01, -1.59468010e-01,  2.10258797e-01,\n",
       "          3.98023009e-01,  1.44647226e-01,  3.55243236e-01,\n",
       "          1.91154361e-01, -3.95144165e-01,  6.74340367e-01,\n",
       "          3.30979109e-01,  8.53133276e-02,  5.36318123e-02,\n",
       "          1.63066149e-01,  1.50066778e-01,  8.95484537e-02,\n",
       "          4.95125428e-02,  1.04434609e-01, -2.18813479e-01,\n",
       "          3.26781198e-02,  2.32724100e-01, -6.82069883e-02,\n",
       "         -2.92140186e-01, -4.00308311e-01,  1.91796735e-01,\n",
       "          2.45341226e-01,  9.50081050e-02, -9.71093699e-02,\n",
       "          1.13286346e-01, -5.34691177e-02,  4.60009538e-02,\n",
       "          1.96702734e-01, -3.37980479e-01,  2.24031419e-01,\n",
       "          7.31099099e-02,  2.13782564e-01,  2.52641618e-01,\n",
       "          2.97856927e-01, -3.57953668e-01, -8.53694379e-02,\n",
       "          1.68906212e-01],\n",
       "        [-1.19073614e-01,  8.05022046e-02, -5.15398011e-02,\n",
       "         -3.58570926e-03,  6.51824251e-02,  3.29918653e-01,\n",
       "          8.69585350e-02,  6.97233602e-02,  1.34701073e-01,\n",
       "          4.16271061e-01,  6.35097921e-02, -2.95706745e-03,\n",
       "          2.33439147e-01, -1.48517853e-02, -4.36163485e-01,\n",
       "          1.57287464e-01, -9.95827988e-02,  3.85092586e-01,\n",
       "          5.82082057e-03, -2.55241454e-01,  1.46316603e-01,\n",
       "          1.08653069e-01, -1.36350155e-01, -1.05091020e-01,\n",
       "         -8.14502314e-02, -2.23578028e-02,  2.37852409e-01,\n",
       "         -5.46949983e-01,  1.14259630e-01,  3.35084051e-02,\n",
       "         -1.41459227e-01,  6.44301698e-02,  1.47030041e-01,\n",
       "         -9.94720981e-02, -5.34676373e-01, -4.88342270e-02,\n",
       "          1.15076691e-01,  6.27270699e-01, -1.56448022e-01,\n",
       "          8.70665088e-02],\n",
       "        [-4.87096190e-01,  9.96244997e-02, -1.64836884e-01,\n",
       "         -2.78278172e-01,  6.16058894e-03, -5.05732179e-01,\n",
       "         -5.40259957e-01, -6.13255262e-01, -3.86215329e-01,\n",
       "         -2.16225520e-01, -8.68640542e-02, -2.07810193e-01,\n",
       "         -3.51825535e-01,  3.08524638e-01,  2.20582217e-01,\n",
       "         -1.32706344e-01, -2.73861259e-01, -2.76395619e-01,\n",
       "         -4.28817160e-02, -2.79570967e-01,  6.82832152e-02,\n",
       "          3.34735274e-01,  1.62019119e-01,  3.17368482e-04,\n",
       "          6.86318800e-02,  1.71643682e-02,  1.45377278e-01,\n",
       "         -1.21753402e-01,  1.46994159e-01,  6.60385042e-02,\n",
       "         -6.96990371e-01, -2.02851474e-01, -6.74066663e-01,\n",
       "         -3.50465029e-01, -1.68975458e-01, -7.60902405e-01,\n",
       "         -6.92462564e-01, -3.27199131e-01, -6.29939616e-01,\n",
       "         -2.90958852e-01],\n",
       "        [ 4.33037877e-02,  3.57282251e-01, -4.19653833e-01,\n",
       "         -1.60735175e-01,  1.33308604e-01,  7.68074393e-02,\n",
       "          9.02417973e-02,  9.07977223e-02,  1.14413902e-01,\n",
       "         -8.78000483e-02, -4.05168608e-02,  4.11976397e-01,\n",
       "         -8.58028382e-02,  1.54332668e-01, -1.79942787e-01,\n",
       "          4.44343090e-02, -1.39785809e-02,  1.02661639e-01,\n",
       "         -1.54267639e-01, -2.64121264e-01,  4.32901263e-01,\n",
       "          9.24489424e-02, -3.03309727e-02, -2.17225835e-01,\n",
       "         -1.06587037e-01, -4.47584480e-01,  3.98554742e-01,\n",
       "         -2.13967964e-01,  8.74458253e-02, -3.34477097e-01,\n",
       "         -3.45033944e-01,  5.25579333e-01, -5.15194014e-02,\n",
       "          1.63066626e-01, -4.14501429e-01, -2.03677908e-01,\n",
       "         -6.27225876e-01,  3.80698055e-01,  8.67401063e-02,\n",
       "         -1.70051590e-01],\n",
       "        [-5.74175306e-02, -2.74436697e-02, -2.90836483e-01,\n",
       "         -4.65751320e-01,  1.24734208e-01, -2.32855633e-01,\n",
       "         -5.37013412e-02, -2.27590352e-01, -1.45884559e-01,\n",
       "         -7.82654621e-03,  6.11309595e-02,  3.77546884e-02,\n",
       "         -1.05393209e-01, -1.67296216e-01,  2.14816943e-01,\n",
       "          5.53457439e-02,  9.49454755e-02, -2.42659878e-02,\n",
       "          1.32029697e-01,  1.22037381e-01, -3.85730147e-01,\n",
       "         -4.74988893e-02, -2.02195823e-01,  2.07025930e-01,\n",
       "          5.39536700e-02,  2.37510651e-01, -2.75558889e-01,\n",
       "         -9.84858051e-02, -2.86367267e-01,  2.27824390e-01,\n",
       "          1.03654817e-01, -5.67378104e-01, -1.23553807e-02,\n",
       "          1.51876211e-01,  1.97443336e-01, -2.48796716e-02,\n",
       "         -1.49092674e-01, -2.66456634e-01,  2.77231127e-01,\n",
       "         -1.99518710e-01]], dtype=float32)>,\n",
       " <tf.Variable 'lstm/lstm_cell/bias:0' shape=(40,) dtype=float32, numpy=\n",
       " array([ 2.25429788e-01,  1.12465605e-01,  1.88609853e-01,  2.89749086e-01,\n",
       "         1.25961930e-01,  2.59065777e-01,  4.23829794e-01,  2.93765426e-01,\n",
       "         2.76219428e-01,  2.62867332e-01,  1.00339580e+00,  9.99762535e-01,\n",
       "         1.05473280e+00,  1.07364452e+00,  1.05629194e+00,  1.02779233e+00,\n",
       "         1.15235877e+00,  1.02051258e+00,  1.07765782e+00,  1.09544849e+00,\n",
       "         3.38842794e-02, -6.36438802e-02,  5.69410389e-03,  2.20266535e-04,\n",
       "         6.96692965e-04, -2.28294395e-02,  5.25737461e-03, -1.68276932e-02,\n",
       "         2.39991806e-02, -6.97890436e-03,  2.58215785e-01,  1.33170888e-01,\n",
       "         2.35383987e-01,  3.24917138e-01,  1.48911402e-01,  4.28546965e-01,\n",
       "         5.65413773e-01,  3.08116257e-01,  4.16836858e-01,  3.26183915e-01],\n",
       "       dtype=float32)>,\n",
       " <tf.Variable 'dense/kernel:0' shape=(10, 1) dtype=float32, numpy=\n",
       " array([[-0.9758469],\n",
       "        [-0.7700744],\n",
       "        [-0.6805385],\n",
       "        [ 1.0691265],\n",
       "        [ 0.6115581],\n",
       "        [ 1.1261343],\n",
       "        [-1.025973 ],\n",
       "        [ 0.4766341],\n",
       "        [-1.0720564],\n",
       "        [ 1.1480105]], dtype=float32)>,\n",
       " <tf.Variable 'dense/bias:0' shape=(1,) dtype=float32, numpy=array([-0.00629232], dtype=float32)>]"
      ]
     },
     "execution_count": 53,
     "metadata": {},
     "output_type": "execute_result"
    }
   ],
   "source": [
    "model.weights"
   ]
  },
  {
   "cell_type": "markdown",
   "metadata": {},
   "source": [
    "### saving the whole model including weights and all parameters in one file"
   ]
  },
  {
   "cell_type": "code",
   "execution_count": 54,
   "metadata": {},
   "outputs": [],
   "source": [
    "import os.path"
   ]
  },
  {
   "cell_type": "code",
   "execution_count": 55,
   "metadata": {},
   "outputs": [],
   "source": [
    "#if os.path.isfile(\"C:/Users/hamro/Desktop/finished_projects/django_mood_tracker/saved_model/mood_tracker_model.h5\") is False:\n",
    "#    model.save(\"C:/Users/hamro/Desktop/finished_projects/django_mood_tracker/saved_model/mood_tracker_model.h5\")"
   ]
  },
  {
   "cell_type": "markdown",
   "metadata": {},
   "source": [
    "### saving one hot"
   ]
  },
  {
   "cell_type": "code",
   "execution_count": 56,
   "metadata": {},
   "outputs": [],
   "source": [
    "#import pickle; \n",
    "#with open(\"encoder_mood_tracker.pkl\", \"wb\") as f:\n",
    "#    pickle.dump(one_hot, f)"
   ]
  },
  {
   "cell_type": "markdown",
   "metadata": {},
   "source": [
    "### testing and bundling all preprocess steps together"
   ]
  },
  {
   "cell_type": "code",
   "execution_count": 62,
   "metadata": {},
   "outputs": [],
   "source": [
    "def preprocessing(data):\n",
    "    ps = PorterStemmer()\n",
    "    data = data.split('.')\n",
    "    corpus = []\n",
    "    for i in data:\n",
    "        review = re.sub('[^a-zA-Z]', ' ', i)\n",
    "        review = review.lower()\n",
    "        review = review.split()\n",
    "        review = [ps.stem(word) for word in review if not word in stopwords.words('english')]\n",
    "        review = ' '.join(review)\n",
    "        if review != '':\n",
    "            corpus.append(review)\n",
    "    return corpus\n",
    "\n",
    "\n",
    "def vectorize_sentence(corpus):\n",
    "    # Vocabulary size\n",
    "    voc_size=10000\n",
    "    onehot_repr=[one_hot(words,voc_size)for words in corpus]\n",
    "    # creating embedding layer as the input layer for our model we fixed lenght set to 20\n",
    "    sent_length=40\n",
    "    # pad sequence - we have to always input vector of the same size, but sentences are of\n",
    "    embedded_words=pad_sequences(onehot_repr,padding='pre',maxlen=sent_length)\n",
    "    return embedded_words\n",
    "\n",
    "def input_layer(data):\n",
    "    corpus = preprocessing(data)\n",
    "    embedded_input = vectorize_sentence(corpus)\n",
    "    return embedded_input"
   ]
  },
  {
   "cell_type": "markdown",
   "metadata": {},
   "source": [
    "### try random sentences"
   ]
  },
  {
   "cell_type": "code",
   "execution_count": 63,
   "metadata": {},
   "outputs": [
    {
     "data": {
      "text/plain": [
       "[0, 0, 1, 0]"
      ]
     },
     "execution_count": 63,
     "metadata": {},
     "output_type": "execute_result"
    }
   ],
   "source": [
    "testing_sentence = \"they didn't worry about. Stop doing it. Everyone died, horrible death. Horrible shop. Crazy bad.\"\n",
    "testing_sentence_2 = \"im meant to be doing the bloody dishes after i just cooked a heap of food and my foot hurts\"\n",
    "testing_sentence_3 = \"it was great, i love it. Fabulous.\"\n",
    "testing_sentence_4 = \"i am extremely happy.\"\n",
    "all_sentences = [testing_sentence, testing_sentence_2, testing_sentence_3,testing_sentence_4]\n",
    "res = []\n",
    "for i in all_sentences:\n",
    "    p = input_layer(i)\n",
    "    pred_ = (model.predict(p))\n",
    "    pred = (model.predict(p) > 0.5).astype(\"int32\")\n",
    "    if np.average(pred) >=0.5:\n",
    "        \n",
    "        res.append(1)\n",
    "    else:\n",
    "        res.append(0)\n",
    "    \n",
    "res"
   ]
  }
 ],
 "metadata": {
  "kernelspec": {
   "display_name": "Python 3",
   "language": "python",
   "name": "python3"
  },
  "language_info": {
   "codemirror_mode": {
    "name": "ipython",
    "version": 3
   },
   "file_extension": ".py",
   "mimetype": "text/x-python",
   "name": "python",
   "nbconvert_exporter": "python",
   "pygments_lexer": "ipython3",
   "version": "3.8.5"
  }
 },
 "nbformat": 4,
 "nbformat_minor": 4
}
